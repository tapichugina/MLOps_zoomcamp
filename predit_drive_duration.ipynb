{
 "cells": [
  {
   "cell_type": "code",
   "execution_count": 2,
   "id": "dd7f3267-152a-4e38-b69a-779213963ea4",
   "metadata": {},
   "outputs": [],
   "source": [
    "import pandas as pd\n",
    "import numpy as np\n",
    "\n",
    "import seaborn as sns\n",
    "import matplotlib.pyplot as plt\n",
    "\n",
    "from sklearn.feature_extraction import DictVectorizer\n",
    "from sklearn.linear_model import LinearRegression\n",
    "from sklearn.metrics import mean_squared_error"
   ]
  },
  {
   "cell_type": "code",
   "execution_count": 11,
   "id": "d9392717-9788-4c9a-be5d-876de5f4d857",
   "metadata": {},
   "outputs": [],
   "source": [
    "def read_data(file_name):\n",
    "    df=pd.read_parquet(file_name)\n",
    "    df['duration']=(df['tpep_dropoff_datetime']-df['tpep_pickup_datetime'])\n",
    "    df['duration']=df['duration'].dt.seconds/60\n",
    "    print(np.std(df['duration']))\n",
    "    l1=df.shape[0]\n",
    "    df=df[(df['duration']>1) & (df['duration']<60)]\n",
    "    l2=df.shape[0]\n",
    "    print(l2/l1)\n",
    "    return df\n",
    "\n",
    "def prepare_to_train(df):\n",
    "    categorical=['PULocationID','DOLocationID']\n",
    "    df['PULocationID']=df['PULocationID'].astype('str')\n",
    "    df['DOLocationID']=df['DOLocationID'].astype('str')\n",
    "\n",
    "    df_dict=df[categorical].to_dict(orient='records')\n",
    "    dv=DictVectorizer()\n",
    "    X=dv.fit_transform(df_dict)\n",
    "    y=df['duration'].values\n",
    "    return X,y,dv\n",
    "    "
   ]
  },
  {
   "cell_type": "code",
   "execution_count": 12,
   "id": "604582c0-4c0b-45bf-b965-454b4a1a262d",
   "metadata": {},
   "outputs": [
    {
     "name": "stdout",
     "output_type": "stream",
     "text": [
      "56.185695490986646\n",
      "0.9825887981441038\n",
      "56.97759194052569\n",
      "0.9793017525829596\n"
     ]
    }
   ],
   "source": [
    "train=read_data('../data/yellow_tripdata_2022-01.parquet')\n",
    "validate=read_data('../data/yellow_tripdata_2022-02.parquet')"
   ]
  },
  {
   "cell_type": "code",
   "execution_count": 13,
   "id": "65f1f71e-9bc7-4825-a763-dadb2ab1cdb6",
   "metadata": {},
   "outputs": [],
   "source": [
    "X_train,y_train,dv=prepare_to_train(train)"
   ]
  },
  {
   "cell_type": "code",
   "execution_count": 14,
   "id": "efe7d5f8-5982-4db1-9fd2-c134f97f7505",
   "metadata": {},
   "outputs": [],
   "source": [
    "categorical=['PULocationID','DOLocationID']\n",
    "validate['PULocationID']=validate['PULocationID'].astype('str')\n",
    "validate['DOLocationID']=validate['DOLocationID'].astype('str')\n",
    "\n",
    "validate_dict=validate[categorical].to_dict(orient='records')\n",
    "X_val=dv.transform(validate_dict)\n",
    "y=validate['duration'].values\n"
   ]
  },
  {
   "cell_type": "code",
   "execution_count": null,
   "id": "9f10af9e-9652-410e-ade2-725cd80b8b8b",
   "metadata": {},
   "outputs": [],
   "source": [
    "lr = LinearRegression()\n",
    "lr.fit(X_train, y_train)"
   ]
  },
  {
   "cell_type": "code",
   "execution_count": null,
   "id": "1b57486f-552a-49a3-91a4-0688160f7705",
   "metadata": {},
   "outputs": [],
   "source": [
    "y_pred = lr.predict(X_train)\n",
    "mean_squared_error(y_train, y_pred, squared=False)"
   ]
  },
  {
   "cell_type": "code",
   "execution_count": 42,
   "id": "f987ebf1-2fa1-4b1d-9286-76c8c240feb7",
   "metadata": {},
   "outputs": [
    {
     "data": {
      "text/plain": [
       "7.784420602951911"
      ]
     },
     "execution_count": 42,
     "metadata": {},
     "output_type": "execute_result"
    }
   ],
   "source": [
    "y_pred = lr.predict(X_val)\n",
    "mean_squared_error(y, y_pred, squared=False)"
   ]
  },
  {
   "cell_type": "code",
   "execution_count": null,
   "id": "c33d113a-18a6-4ac4-9267-02b3d1ed4791",
   "metadata": {},
   "outputs": [],
   "source": []
  }
 ],
 "metadata": {
  "kernelspec": {
   "display_name": "Python 3 (ipykernel)",
   "language": "python",
   "name": "python3"
  },
  "language_info": {
   "codemirror_mode": {
    "name": "ipython",
    "version": 3
   },
   "file_extension": ".py",
   "mimetype": "text/x-python",
   "name": "python",
   "nbconvert_exporter": "python",
   "pygments_lexer": "ipython3",
   "version": "3.9.12"
  }
 },
 "nbformat": 4,
 "nbformat_minor": 5
}
